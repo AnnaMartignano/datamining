{
 "cells": [
  {
   "cell_type": "markdown",
   "metadata": {},
   "source": [
    "# Assignment 1: Finding Similar Items: Textually Similar Documents"
   ]
  },
  {
   "cell_type": "markdown",
   "metadata": {},
   "source": [
    "You are to implement the stages of finding textually similar documents based on Jaccard similarity using the shingling, minhashing, and locality-sensitive hashing (LSH) techniques and corresponding algorithms. The implementation can be done using any big data processing framework, such as Apache Spark, Apache Flink, or no framework, e.g., in Java, Python, etc. To test and evaluate your implementation, write a program that uses your implementation to find similar documents in a corpus of 5-10 or more documents such as web pages or emails.\n",
    "\n",
    "The stages should be implemented as a collection of classes, modules, functions or procedures depending the framework and the language of your choice. Below, we give a description of sample classes that implement different stages of finding textually similar documents. You do not have to develop the exact same classes and data types as described below. Feel free to use data structures that suit you best.\n",
    "\n",
    "1. A class Shingling that constructs k–shingles of a given length k (e.g., 10) from a given document, computes a hash value for each unique shingle, and represents the document in the form of an ordered set of its hashed k-shingles.\n",
    "2. A class CompareSets that computes the Jaccard similarity of two sets of integers – two sets of hashed shingles.\n",
    "3. A class MinHashing that builds a minHash signature (in the form of a vector or a set) of a given length n from a given set of integers (a set of hashed shingles).\n",
    "4. A class CompareSignatures that estimates similarity of two integer vectors – minhash signatures – as a fraction of components, in which they agree.\n",
    "5. (Optional task for extra 2 bonus) A class LSH that implements the LSH technique: given a collection of minhash signatures (integer vectors) and a similarity threshold t, the LSH class (using banding and hashing) finds all candidate pairs of signatures that agree on at least fraction t of their components.\n",
    "\n",
    "To test and evaluate scalability (the execution time versus the size of input dataset) of your implementation, write a program that uses your classes to find similar documents in a corpus of 5-10 documents. Choose a similarity threshold s (e.g., 0,8) that states that two documents are similar if the Jaccard similarity of their shingle sets is at least s. \n",
    "\n",
    "Datasets\n",
    "For documents, see the datasets in the UC Irvine Machine Learning Repository (https://archive.ics.uci.edu/ml/index.php), or find other documents such as web pages or emails.\n",
    "To find more datasets follow this link (https://github.com/awesomedata/awesome-public-datasets)"
   ]
  },
  {
   "cell_type": "markdown",
   "metadata": {},
   "source": [
    "The Dataset considered for these assignment is \"BBC Full Text Document Classification\" and it has been made available on Kaggle. (https://www.kaggle.com/shivamkushwaha/bbc-full-text-document-classification/download)\n",
    "This dataset contains 2225 .txt documents belonging to five different cetegory:\n",
    "- business\n",
    "- entertainment\n",
    "- politics\n",
    "- sport\n",
    "- tech"
   ]
  },
  {
   "cell_type": "code",
   "execution_count": 1,
   "metadata": {},
   "outputs": [],
   "source": [
    "from pathlib import Path\n",
    "\n",
    "def retrieve_file(data_folder, file_name):\n",
    "    file_to_open = data_folder / file_name\n",
    "    f = open(file_to_open)\n",
    "    return f.read().replace('\\n', ' ')\n",
    "\n",
    "business_folder = Path(\"bbc-full-text-document-classification/bbc/business\")\n",
    "entertainment_folder = Path(\"bbc-full-text-document-classification/bbc/entertainment\")\n",
    "politics_folder = Path(\"bbc-full-text-document-classification/bbc/politics\")\n",
    "sport_folder = Path(\"bbc-full-text-document-classification/bbc/sport\")\n",
    "tech_folder = Path(\"bbc-full-text-document-classification/bbc/tech\")\n",
    "\n",
    "bus1 = retrieve_file(business_folder, \"001.txt\")\n",
    "bus2 = retrieve_file(business_folder, \"002.txt\")\n",
    "pol1 = retrieve_file(politics_folder, \"001.txt\")"
   ]
  },
  {
   "cell_type": "markdown",
   "metadata": {},
   "source": [
    "## Shingling Class\n",
    "In the following Shingling Class the hash function used simply map the input shingle into a 32bit integer using the library binascii."
   ]
  },
  {
   "cell_type": "code",
   "execution_count": 2,
   "metadata": {},
   "outputs": [],
   "source": [
    "import binascii\n",
    "\n",
    "class Shingling():\n",
    "    def __init__(self, k, document):\n",
    "        self.k = k\n",
    "        self.document = document\n",
    "        self.set = {*()}\n",
    "        \n",
    "    def hash_function(self, shingle):\n",
    "        return binascii.crc32(shingle.encode(\"utf-8\")) & 0xffffffff\n",
    "    \n",
    "    def create_shingle_set(self):\n",
    "        for i in range(len(self.document)-(self.k-1)):\n",
    "            shingle = self.document[i:(i+self.k)]\n",
    "            hashed_shingle = self.hash_function(shingle)\n",
    "            self.set.add(hashed_shingle)\n",
    "        return sorted(self.set)        "
   ]
  },
  {
   "cell_type": "markdown",
   "metadata": {},
   "source": [
    "## CompareSets Class\n",
    "The similarity function implemented by the Class is the Jaccard similarity, which is computed considering the number of the elements in commong among two sets over the union of those two sets: "
   ]
  },
  {
   "cell_type": "code",
   "execution_count": 3,
   "metadata": {},
   "outputs": [],
   "source": [
    "class CompareSets():\n",
    "    def __init__(self, set1, set2):\n",
    "        self.set1 = set(set1)\n",
    "        self.set2 = set(set2)\n",
    "    \n",
    "    def compute_jacc_sim(self):\n",
    "        if(self.set1 == set() or self.set2 == set()):\n",
    "            print(\"Warning: at least one of the two set is empty\\n\")\n",
    "            return 0\n",
    "        else:\n",
    "            return len(self.set1.intersection(self.set2)) / len(self.set1.union(self.set2))"
   ]
  },
  {
   "cell_type": "code",
   "execution_count": 4,
   "metadata": {},
   "outputs": [
    {
     "name": "stdout",
     "output_type": "stream",
     "text": [
      "The Jaccard similarity among two business articles is  0.07042253521126761\n",
      "The Jaccard similarity among a business and a politc article is  0.06374147643047733\n"
     ]
    }
   ],
   "source": [
    "shing1 = Shingling(5,bus1)\n",
    "set1 = shing1.create_shingle_set()\n",
    "\n",
    "shing2 = Shingling(5,bus2)\n",
    "set2 = shing2.create_shingle_set()\n",
    "\n",
    "shing3 = Shingling(5,pol1)\n",
    "set3 = shing3.create_shingle_set()\n",
    "\n",
    "comparison = CompareSets(set1, set2)\n",
    "similarity = comparison.compute_jacc_sim()\n",
    "print(\"The Jaccard similarity among two business articles is \",similarity)\n",
    "\n",
    "comparison = CompareSets(set2, set3)\n",
    "similarity = comparison.compute_jacc_sim()\n",
    "print(\"The Jaccard similarity among a business and a politc article is \",similarity)"
   ]
  },
  {
   "cell_type": "markdown",
   "metadata": {},
   "source": [
    "## MinHashing Class\n",
    "To compute the MinHash it has been used this formula: $(ax + b) mod c$, in which a and b are randomly generated coefficients and c is the next prime bigger than $2^{32} - 1$ since the previous class Shingling create sets of 32 bit integer."
   ]
  },
  {
   "cell_type": "code",
   "execution_count": 8,
   "metadata": {},
   "outputs": [],
   "source": [
    "import random\n",
    "\n",
    "class MinHashing():    \n",
    "    def __init__(self, n=50):\n",
    "        self.n = n\n",
    "        self.max_shingle_hash = 2**32 - 1\n",
    "        self.next_prime = 4294967311\n",
    "        self.coef_a = self.generate_coef()\n",
    "        self.coef_b = self.generate_coef()\n",
    "    \n",
    "    def generate_coef(self):\n",
    "        coefficients = []\n",
    "        \n",
    "        for _ in range(self.n):\n",
    "            new_coef = random.randint(1, self.max_shingle_hash)\n",
    "            while new_coef in coefficients:\n",
    "                new_coef = random.randint(1, self.max_shingle_hash)\n",
    "            coefficients.append(new_coef)\n",
    "        \n",
    "        return coefficients\n",
    "    \n",
    "    def hash_function(self, position, value):\n",
    "        a = self.coef_a[position]\n",
    "        b = self.coef_b[position]\n",
    "        return (a * value + b) % self.next_prime\n",
    "    \n",
    "    def create_signature(self, inputSet):\n",
    "        sign = []\n",
    "        for i in range(self.n):\n",
    "            sign.append(min (map (lambda x: self.hash_function(i,x), inputSet) ) )\n",
    "        return sign"
   ]
  },
  {
   "cell_type": "markdown",
   "metadata": {},
   "source": [
    "## CompareSignatures Class\n",
    "The CompareSignatures Class simply receive two signatures and count how many items are similar over the signatures length. The most important check to be performed is to controll if both signatures are of the same lenth, otherwise it is not possible to compare them."
   ]
  },
  {
   "cell_type": "code",
   "execution_count": 9,
   "metadata": {},
   "outputs": [],
   "source": [
    "class CompareSignatures():\n",
    "    def __init__(self, sig1, sig2):\n",
    "        self.sig1 = sig1\n",
    "        self.sig2 = sig2\n",
    "    \n",
    "    def compute_sig_sim(self):\n",
    "        if(len(self.sig1) != len(self.sig2)):\n",
    "            print(\"Impossible to compare those signatures since they are of different lengths\\n\")\n",
    "        elif(self.sig1 == 0):\n",
    "            print(\"Warning: both signatures are empty\")\n",
    "            return 0\n",
    "        else:\n",
    "            equal_sign = 0\n",
    "            all_sign = len(self.sig1)\n",
    "            for a, b in zip(self.sig1, self.sig2):\n",
    "                if(a == b):\n",
    "                    equal_sign += 1 \n",
    "            return equal_sign / all_sign"
   ]
  },
  {
   "cell_type": "code",
   "execution_count": 15,
   "metadata": {},
   "outputs": [
    {
     "name": "stdout",
     "output_type": "stream",
     "text": [
      "The signatures similarity among two business articles is  0.04\n",
      "The signatures similarity among a business and a politc article is  0.06\n"
     ]
    }
   ],
   "source": [
    "minhash = MinHashing(100)\n",
    "sig1 = minhash.create_signature(set1)\n",
    "\n",
    "sig2 = minhash.create_signature(set2)\n",
    "\n",
    "sig3 = minhash.create_signature(set3)\n",
    "\n",
    "comparison = CompareSignatures(sig1, sig2)\n",
    "similarity = comparison.compute_sig_sim()\n",
    "print(\"The signatures similarity among two business articles is \", similarity)\n",
    "\n",
    "comparison = CompareSignatures(sig2, sig3)\n",
    "similarity = comparison.compute_sig_sim()\n",
    "print(\"The signatures similarity among a business and a politc article is \", similarity)"
   ]
  }
 ],
 "metadata": {
  "kernelspec": {
   "display_name": "Python 3",
   "language": "python",
   "name": "python3"
  },
  "language_info": {
   "codemirror_mode": {
    "name": "ipython",
    "version": 3
   },
   "file_extension": ".py",
   "mimetype": "text/x-python",
   "name": "python",
   "nbconvert_exporter": "python",
   "pygments_lexer": "ipython3",
   "version": "3.7.3"
  }
 },
 "nbformat": 4,
 "nbformat_minor": 2
}
